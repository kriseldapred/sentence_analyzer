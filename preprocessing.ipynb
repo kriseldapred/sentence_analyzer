{
 "cells": [
  {
   "cell_type": "code",
   "execution_count": 1,
   "metadata": {},
   "outputs": [],
   "source": [
    "import pandas as pd\n",
    "import torch\n",
    "from numpy import isnan\n",
    "from datasets import load_dataset, Dataset\n",
    "from transformers import AutoTokenizer, AutoModelForSequenceClassification, TrainingArguments, Trainer\n",
    "from sklearn.model_selection import train_test_split\n",
    "from torch import nn\n"
   ]
  },
  {
   "cell_type": "code",
   "execution_count": 2,
   "metadata": {},
   "outputs": [
    {
     "data": {
      "text/html": [
       "<div>\n",
       "<style scoped>\n",
       "    .dataframe tbody tr th:only-of-type {\n",
       "        vertical-align: middle;\n",
       "    }\n",
       "\n",
       "    .dataframe tbody tr th {\n",
       "        vertical-align: top;\n",
       "    }\n",
       "\n",
       "    .dataframe thead th {\n",
       "        text-align: right;\n",
       "    }\n",
       "</style>\n",
       "<table border=\"1\" class=\"dataframe\">\n",
       "  <thead>\n",
       "    <tr style=\"text-align: right;\">\n",
       "      <th></th>\n",
       "      <th>Topic</th>\n",
       "      <th>Article</th>\n",
       "      <th>Claim</th>\n",
       "      <th>CDE</th>\n",
       "      <th>Type 1</th>\n",
       "      <th>Type 2</th>\n",
       "    </tr>\n",
       "  </thead>\n",
       "  <tbody>\n",
       "    <tr>\n",
       "      <th>0</th>\n",
       "      <td>the sale of violent video games to minors</td>\n",
       "      <td>Video game controversies</td>\n",
       "      <td>exposure to violent video games causes at leas...</td>\n",
       "      <td>The most recent large scale meta-anlysis-- exa...</td>\n",
       "      <td>STUDY</td>\n",
       "      <td>NaN</td>\n",
       "    </tr>\n",
       "    <tr>\n",
       "      <th>1</th>\n",
       "      <td>the sale of violent video games to minors</td>\n",
       "      <td>Video game controversies</td>\n",
       "      <td>exposure to violent video games causes at leas...</td>\n",
       "      <td>One study did find an increase in reports of b...</td>\n",
       "      <td>STUDY</td>\n",
       "      <td>NaN</td>\n",
       "    </tr>\n",
       "    <tr>\n",
       "      <th>2</th>\n",
       "      <td>the sale of violent video games to minors</td>\n",
       "      <td>Video game controversies</td>\n",
       "      <td>exposure to violent video games causes at leas...</td>\n",
       "      <td>when one combines all relevant empirical studi...</td>\n",
       "      <td>STUDY</td>\n",
       "      <td>NaN</td>\n",
       "    </tr>\n",
       "    <tr>\n",
       "      <th>3</th>\n",
       "      <td>the sale of violent video games to minors</td>\n",
       "      <td>Video game controversies</td>\n",
       "      <td>exposure to violent video games causes at leas...</td>\n",
       "      <td>Research published in 2001 suggested that viol...</td>\n",
       "      <td>STUDY</td>\n",
       "      <td>NaN</td>\n",
       "    </tr>\n",
       "    <tr>\n",
       "      <th>4</th>\n",
       "      <td>the sale of violent video games to minors</td>\n",
       "      <td>Video game controversies</td>\n",
       "      <td>exposure to violent video games causes at leas...</td>\n",
       "      <td>In 2004 the American Psychological Association...</td>\n",
       "      <td>STUDY</td>\n",
       "      <td>EXPERT</td>\n",
       "    </tr>\n",
       "  </tbody>\n",
       "</table>\n",
       "</div>"
      ],
      "text/plain": [
       "                                        Topic                   Article  \\\n",
       "0  the sale of violent video games to minors   Video game controversies   \n",
       "1  the sale of violent video games to minors   Video game controversies   \n",
       "2  the sale of violent video games to minors   Video game controversies   \n",
       "3  the sale of violent video games to minors   Video game controversies   \n",
       "4  the sale of violent video games to minors   Video game controversies   \n",
       "\n",
       "                                               Claim  \\\n",
       "0  exposure to violent video games causes at leas...   \n",
       "1  exposure to violent video games causes at leas...   \n",
       "2  exposure to violent video games causes at leas...   \n",
       "3  exposure to violent video games causes at leas...   \n",
       "4  exposure to violent video games causes at leas...   \n",
       "\n",
       "                                                 CDE Type 1  Type 2  \n",
       "0  The most recent large scale meta-anlysis-- exa...  STUDY     NaN  \n",
       "1  One study did find an increase in reports of b...  STUDY     NaN  \n",
       "2  when one combines all relevant empirical studi...  STUDY     NaN  \n",
       "3  Research published in 2001 suggested that viol...  STUDY     NaN  \n",
       "4  In 2004 the American Psychological Association...  STUDY  EXPERT  "
      ]
     },
     "execution_count": 2,
     "metadata": {},
     "output_type": "execute_result"
    }
   ],
   "source": [
    "ibm_2014 = pd.read_csv('data/raw/2014_7_18_ibm_CDEdata.csv',delimiter=',',encoding='latin_1')\n",
    "ibm_2014.head()"
   ]
  },
  {
   "cell_type": "code",
   "execution_count": 4,
   "metadata": {},
   "outputs": [
    {
     "data": {
      "text/html": [
       "<div>\n",
       "<style scoped>\n",
       "    .dataframe tbody tr th:only-of-type {\n",
       "        vertical-align: middle;\n",
       "    }\n",
       "\n",
       "    .dataframe tbody tr th {\n",
       "        vertical-align: top;\n",
       "    }\n",
       "\n",
       "    .dataframe thead th {\n",
       "        text-align: right;\n",
       "    }\n",
       "</style>\n",
       "<table border=\"1\" class=\"dataframe\">\n",
       "  <thead>\n",
       "    <tr style=\"text-align: right;\">\n",
       "      <th></th>\n",
       "      <th>Topic</th>\n",
       "      <th>Claim</th>\n",
       "      <th>CDE</th>\n",
       "      <th>Type 1</th>\n",
       "    </tr>\n",
       "  </thead>\n",
       "  <tbody>\n",
       "    <tr>\n",
       "      <th>0</th>\n",
       "      <td>This house believes that the sale of violent v...</td>\n",
       "      <td>Exposure to violent video games causes at leas...</td>\n",
       "      <td>A 2001 study found that exposure to violent vi...</td>\n",
       "      <td>[STUDY]</td>\n",
       "    </tr>\n",
       "    <tr>\n",
       "      <th>1</th>\n",
       "      <td>This house believes that the sale of violent v...</td>\n",
       "      <td>Exposure to violent video games causes at leas...</td>\n",
       "      <td>The most recent large scale meta-anlysis-- exa...</td>\n",
       "      <td>[STUDY]</td>\n",
       "    </tr>\n",
       "    <tr>\n",
       "      <th>2</th>\n",
       "      <td>This house believes that the sale of violent v...</td>\n",
       "      <td>Exposure to violent video games causes at leas...</td>\n",
       "      <td>One study did find an increase in reports of b...</td>\n",
       "      <td>[STUDY]</td>\n",
       "    </tr>\n",
       "    <tr>\n",
       "      <th>3</th>\n",
       "      <td>This house believes that the sale of violent v...</td>\n",
       "      <td>Exposure to violent video games causes at leas...</td>\n",
       "      <td>when one combines all relevant empirical studi...</td>\n",
       "      <td>[STUDY]</td>\n",
       "    </tr>\n",
       "    <tr>\n",
       "      <th>4</th>\n",
       "      <td>This house believes that the sale of violent v...</td>\n",
       "      <td>Exposure to violent video games causes at leas...</td>\n",
       "      <td>Research published in 2001 suggested that viol...</td>\n",
       "      <td>[STUDY]</td>\n",
       "    </tr>\n",
       "  </tbody>\n",
       "</table>\n",
       "</div>"
      ],
      "text/plain": [
       "                                               Topic  \\\n",
       "0  This house believes that the sale of violent v...   \n",
       "1  This house believes that the sale of violent v...   \n",
       "2  This house believes that the sale of violent v...   \n",
       "3  This house believes that the sale of violent v...   \n",
       "4  This house believes that the sale of violent v...   \n",
       "\n",
       "                                               Claim  \\\n",
       "0  Exposure to violent video games causes at leas...   \n",
       "1  Exposure to violent video games causes at leas...   \n",
       "2  Exposure to violent video games causes at leas...   \n",
       "3  Exposure to violent video games causes at leas...   \n",
       "4  Exposure to violent video games causes at leas...   \n",
       "\n",
       "                                                 CDE   Type 1  \n",
       "0  A 2001 study found that exposure to violent vi...  [STUDY]  \n",
       "1  The most recent large scale meta-anlysis-- exa...  [STUDY]  \n",
       "2  One study did find an increase in reports of b...  [STUDY]  \n",
       "3  when one combines all relevant empirical studi...  [STUDY]  \n",
       "4  Research published in 2001 suggested that viol...  [STUDY]  "
      ]
     },
     "execution_count": 4,
     "metadata": {},
     "output_type": "execute_result"
    }
   ],
   "source": [
    "ibm_2015 = pd.read_csv('data/raw/IBM_Debater_2015_evidence.csv',delimiter='\\t',encoding='latin_1')\n",
    "ibm_2015.head()"
   ]
  },
  {
   "cell_type": "code",
   "execution_count": 5,
   "metadata": {},
   "outputs": [],
   "source": [
    "def str_to_list(labels:str) -> list:\n",
    "    tags = labels.translate(str.maketrans({'[' : '', ']': '',' ' : ''}))\n",
    "    tags = tags.split(',')\n",
    "    return tags"
   ]
  },
  {
   "cell_type": "code",
   "execution_count": 9,
   "metadata": {},
   "outputs": [],
   "source": [
    "sent = {}\n",
    "\n",
    "for index, row in ibm_2014.iterrows():\n",
    "    try:\n",
    "        sent[row['CDE']].append(row['Type 1'])\n",
    "        if type(row['Type 2']) is not float:\n",
    "            sent[row['CDE']].append(row['Type 2']) \n",
    "    except KeyError:\n",
    "        sent[row['CDE']] = [row['Type 1']]\n",
    "        if type(row['Type 2']) is not float:\n",
    "            sent[row['CDE']].append(row['Type 2']) \n",
    "    except Exception as E:\n",
    "        print(f'{index} : {E}')\n",
    "\n",
    "        \n",
    "for index, row in ibm_2015.iterrows():\n",
    "    labels = str_to_list(row['Type 1'])\n",
    "    try:\n",
    "        sent[row['CDE']]+=labels\n",
    "    except KeyError:\n",
    "        sent[row['CDE']] = labels\n",
    "    except Exception as E:\n",
    "        print(f'{index} : {E}')"
   ]
  },
  {
   "cell_type": "code",
   "execution_count": 13,
   "metadata": {},
   "outputs": [],
   "source": [
    "for key, val in sent.items():\n",
    "    sent[key] = list(set(sent[key]))"
   ]
  },
  {
   "cell_type": "code",
   "execution_count": 40,
   "metadata": {},
   "outputs": [],
   "source": [
    "def retrieve_new_label(labels:list) -> str:\n",
    "    if 'ANECDOTAL' in labels:\n",
    "        return 'low'\n",
    "    elif 'STUDY' in labels:\n",
    "        return 'high'\n",
    "    elif 'EXPERT' in labels:\n",
    "        return 'medium'\n",
    "        \n",
    "        "
   ]
  },
  {
   "cell_type": "code",
   "execution_count": null,
   "metadata": {},
   "outputs": [],
   "source": []
  },
  {
   "cell_type": "code",
   "execution_count": 41,
   "metadata": {},
   "outputs": [],
   "source": [
    "new_format_data = {}\n",
    "for key, val in sent.items():\n",
    "    new_format_data[key] = retrieve_new_label(val)\n"
   ]
  },
  {
   "cell_type": "code",
   "execution_count": 44,
   "metadata": {},
   "outputs": [],
   "source": [
    "df = pd.DataFrame.from_dict({'text':list(new_format_data.keys()),'label':list(new_format_data.values())})"
   ]
  },
  {
   "cell_type": "code",
   "execution_count": 46,
   "metadata": {},
   "outputs": [
    {
     "data": {
      "text/html": [
       "<div>\n",
       "<style scoped>\n",
       "    .dataframe tbody tr th:only-of-type {\n",
       "        vertical-align: middle;\n",
       "    }\n",
       "\n",
       "    .dataframe tbody tr th {\n",
       "        vertical-align: top;\n",
       "    }\n",
       "\n",
       "    .dataframe thead th {\n",
       "        text-align: right;\n",
       "    }\n",
       "</style>\n",
       "<table border=\"1\" class=\"dataframe\">\n",
       "  <thead>\n",
       "    <tr style=\"text-align: right;\">\n",
       "      <th></th>\n",
       "      <th>text</th>\n",
       "      <th>label</th>\n",
       "    </tr>\n",
       "  </thead>\n",
       "  <tbody>\n",
       "    <tr>\n",
       "      <th>0</th>\n",
       "      <td>The most recent large scale meta-anlysis-- exa...</td>\n",
       "      <td>high</td>\n",
       "    </tr>\n",
       "    <tr>\n",
       "      <th>1</th>\n",
       "      <td>One study did find an increase in reports of b...</td>\n",
       "      <td>high</td>\n",
       "    </tr>\n",
       "    <tr>\n",
       "      <th>2</th>\n",
       "      <td>when one combines all relevant empirical studi...</td>\n",
       "      <td>high</td>\n",
       "    </tr>\n",
       "    <tr>\n",
       "      <th>3</th>\n",
       "      <td>Research published in 2001 suggested that viol...</td>\n",
       "      <td>high</td>\n",
       "    </tr>\n",
       "    <tr>\n",
       "      <th>4</th>\n",
       "      <td>In 2004 the American Psychological Association...</td>\n",
       "      <td>high</td>\n",
       "    </tr>\n",
       "  </tbody>\n",
       "</table>\n",
       "</div>"
      ],
      "text/plain": [
       "                                                text label\n",
       "0  The most recent large scale meta-anlysis-- exa...  high\n",
       "1  One study did find an increase in reports of b...  high\n",
       "2  when one combines all relevant empirical studi...  high\n",
       "3  Research published in 2001 suggested that viol...  high\n",
       "4  In 2004 the American Psychological Association...  high"
      ]
     },
     "execution_count": 46,
     "metadata": {},
     "output_type": "execute_result"
    }
   ],
   "source": [
    "df.head()"
   ]
  },
  {
   "cell_type": "code",
   "execution_count": 42,
   "metadata": {},
   "outputs": [
    {
     "data": {
      "text/plain": [
       "Counter({'medium': 1491, 'high': 785, 'low': 531})"
      ]
     },
     "execution_count": 42,
     "metadata": {},
     "output_type": "execute_result"
    }
   ],
   "source": [
    "from collections import Counter\n",
    "Counter(list(new_format_data.values()))"
   ]
  },
  {
   "cell_type": "code",
   "execution_count": 47,
   "metadata": {},
   "outputs": [],
   "source": [
    "df.to_csv('credibility.csv',index=False)"
   ]
  }
 ],
 "metadata": {
  "kernelspec": {
   "display_name": "Python 3 (ipykernel)",
   "language": "python",
   "name": "python3"
  },
  "language_info": {
   "codemirror_mode": {
    "name": "ipython",
    "version": 3
   },
   "file_extension": ".py",
   "mimetype": "text/x-python",
   "name": "python",
   "nbconvert_exporter": "python",
   "pygments_lexer": "ipython3",
   "version": "3.12.9"
  }
 },
 "nbformat": 4,
 "nbformat_minor": 4
}
