{
 "cells": [
  {
   "cell_type": "code",
   "execution_count": 1,
   "metadata": {},
   "outputs": [
    {
     "name": "stdout",
     "output_type": "stream",
     "text": [
      "mode_name::: DEV\n"
     ]
    },
    {
     "name": "stderr",
     "output_type": "stream",
     "text": [
      "c:\\Users\\krise\\source\\repos\\pi_core_api\\venv\\Lib\\site-packages\\pydantic\\fields.py:804: PydanticDeprecatedSince20: Using extra keyword arguments on `Field` is deprecated and will be removed. Use `json_schema_extra` instead. (Extra keys: 'example'). Deprecated in Pydantic V2.0 to be removed in V3.0. See Pydantic V2 Migration Guide at https://errors.pydantic.dev/2.7/migration/\n",
      "  warn(\n",
      "c:\\Users\\krise\\source\\repos\\pi_core_api\\venv\\Lib\\site-packages\\tqdm\\auto.py:21: TqdmWarning: IProgress not found. Please update jupyter and ipywidgets. See https://ipywidgets.readthedocs.io/en/stable/user_install.html\n",
      "  from .autonotebook import tqdm as notebook_tqdm\n"
     ]
    }
   ],
   "source": [
    "from app.services.trust_analyzer.sentence_analyzer import classify_text\n"
   ]
  },
  {
   "cell_type": "code",
   "execution_count": 2,
   "metadata": {},
   "outputs": [],
   "source": [
    "id = \"sam\"\n",
    "content = \"\"\"You don’t need to eliminate categories of food from your diet, but rather select a balance of options from each category.\n",
    "Healthy eating is not about strict limitations, staying unrealistically thin, or depriving yourself of the foods you love.\n",
    "Rather, it’s about eating well-balanced meals that leave you feeling great, having more energy, improving your health, and boosting your mood.\"\"\""
   ]
  },
  {
   "cell_type": "code",
   "execution_count": 3,
   "metadata": {},
   "outputs": [
    {
     "name": "stdout",
     "output_type": "stream",
     "text": [
      "Entered classification\n",
      "Gonna load models....\n",
      "Gonna load tokenizer....\n",
      "Gonna split....\n",
      "Gonna tokenize....\n",
      "Gonna load inputs....\n",
      "Gonna run inference....\n",
      "Input IDs shape: (3, 256)\n",
      "Attention Mask shape: (3, 256)\n",
      "Gonna get probabilites....\n",
      "rsults conf: 0.5826\n",
      "rsults conf: 0.964\n",
      "rsults conf: 0.9443\n",
      "Label: high\n",
      "Label: medium\n",
      "Label: medium\n",
      "{\n",
      "    \"sentence_results\": [\n",
      "        {\n",
      "            \"sentence\": \"You don\\u2019t need to eliminate categories of food from your diet, but rather select a balance of options from each category.\",\n",
      "            \"prediction\": \"high\",\n",
      "            \"confidence\": 0.5826\n",
      "        },\n",
      "        {\n",
      "            \"sentence\": \"Healthy eating is not about strict limitations, staying unrealistically thin, or depriving yourself of the foods you love.\",\n",
      "            \"prediction\": \"medium\",\n",
      "            \"confidence\": 0.964\n",
      "        },\n",
      "        {\n",
      "            \"sentence\": \"Rather, it\\u2019s about eating well-balanced meals that leave you feeling great, having more energy, improving your health, and boosting your mood.\",\n",
      "            \"prediction\": \"medium\",\n",
      "            \"confidence\": 0.9443\n",
      "        }\n",
      "    ],\n",
      "    \"corpus_credibility\": {\n",
      "        \"label\": \"medium\",\n",
      "        \"average_score\": 2.33,\n",
      "        \"label_counts\": {\n",
      "            \"high\": 1,\n",
      "            \"medium\": 2\n",
      "        }\n",
      "    }\n",
      "}\n",
      "medium\n"
     ]
    }
   ],
   "source": [
    "trust_sentences = classify_text(corpus=content,id=id)\n",
    "print(trust_sentences)"
   ]
  },
  {
   "cell_type": "code",
   "execution_count": null,
   "metadata": {},
   "outputs": [],
   "source": []
  }
 ],
 "metadata": {
  "kernelspec": {
   "display_name": "venv",
   "language": "python",
   "name": "python3"
  },
  "language_info": {
   "codemirror_mode": {
    "name": "ipython",
    "version": 3
   },
   "file_extension": ".py",
   "mimetype": "text/x-python",
   "name": "python",
   "nbconvert_exporter": "python",
   "pygments_lexer": "ipython3",
   "version": "3.12.3"
  }
 },
 "nbformat": 4,
 "nbformat_minor": 2
}
